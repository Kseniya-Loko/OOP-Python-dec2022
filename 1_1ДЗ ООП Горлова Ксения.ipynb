{
 "cells": [
  {
   "cell_type": "code",
   "execution_count": null,
   "metadata": {},
   "outputs": [],
   "source": [
    "#Задание 1.1\n",
    "# Напишите такой класс Animal, чтобы при вызове его классового метода get_heighest() возвращался рост самого высокого из экземпляров"
   ]
  },
  {
   "cell_type": "code",
   "execution_count": 1,
   "metadata": {},
   "outputs": [],
   "source": [
    "class Animal():\n",
    "  #dictionary = {}\n",
    "  highest =[]\n",
    "  def __init__(self, name, height):\n",
    "    self.name = name\n",
    "    self.height = height\n",
    "    Animal.highest.append(self.height)\n",
    "    #Animal.dictionary[self.name] = self.height\n",
    "\n",
    "    #pass\n",
    "  def speak(self):\n",
    "    print(\"I'm highest\")\n",
    "\n",
    "  @classmethod\n",
    "  def get_highest(cls):\n",
    "    return max(cls.highest)"
   ]
  },
  {
   "cell_type": "code",
   "execution_count": 2,
   "metadata": {},
   "outputs": [],
   "source": [
    "a1 = Animal(\"Alex\", 200)\n",
    "a2 = Animal(\"Melman\", 400)\n",
    "a3 = Animal(\"King Julien XIII\", 40)\n",
    "a4 = Animal(\"Maurice\", 40)\n",
    "\n",
    "#assert Animal.get_highest() #== 400"
   ]
  },
  {
   "cell_type": "code",
   "execution_count": 3,
   "metadata": {},
   "outputs": [
    {
     "name": "stdout",
     "output_type": "stream",
     "text": [
      "400\n"
     ]
    }
   ],
   "source": [
    "print(Animal.get_highest())"
   ]
  },
  {
   "cell_type": "code",
   "execution_count": null,
   "metadata": {},
   "outputs": [],
   "source": [
    "# Задание 1.2 Все же считать всех животных просто.. животными это странно. \n",
    "# Давайте заведем каждому животному по своему классу, унаследовавшись от класса Animal, \n",
    "# при этом сделайте так, чтобы при сравнении двух животных только для животных одного вида возвращалось True"
   ]
  },
  {
   "cell_type": "code",
   "execution_count": 4,
   "metadata": {},
   "outputs": [],
   "source": [
    "class Animal():\n",
    "  #dictionary = {}\n",
    "  highest =[]\n",
    "  def __init__(self, name, height):\n",
    "    self.name = name\n",
    "    self.height = height\n",
    "    Animal.highest.append(self.height)\n",
    "    \n",
    "  def speak(self):\n",
    "      print(\" \")\n",
    "    #Animal.dictionary[self.name] = self.height\n",
    "      pass\n",
    "\n",
    "  #def speak(self):\n",
    "    #print(\"...\")\n",
    "\n",
    "  @classmethod\n",
    "  def get_highest(cls):\n",
    "    return max(cls.highest)"
   ]
  },
  {
   "cell_type": "code",
   "execution_count": 5,
   "metadata": {},
   "outputs": [],
   "source": [
    "class Lion(Animal):\n",
    "  # def speak(self):\n",
    "  #   print(\"I'm lion\")\n",
    "  pass\n",
    "  \n",
    "class Lemur(Animal):\n",
    "  # def speak(self):\n",
    "  #   return print(\"I'm lemur\")\n",
    "  pass\n",
    "\n",
    "class Giraffe(Animal):\n",
    "  # def speak(self):\n",
    "  #   return print(\"I'm giraffe\")\n",
    "  pass"
   ]
  },
  {
   "cell_type": "code",
   "execution_count": 6,
   "metadata": {},
   "outputs": [],
   "source": [
    "# у каждого объекта есть скрытый атрибут __class__, либо сравнить классы можно через функцию type(object)\n",
    "a1 = Lion(\"Alex\", 200)\n",
    "a2 = Giraffe(\"Melman\", 400)\n",
    "a3 = Lemur(\"King Julien XIII\", 40)\n",
    "a4 = Lemur(\"Maurice\", 40)"
   ]
  },
  {
   "cell_type": "code",
   "execution_count": 7,
   "metadata": {},
   "outputs": [],
   "source": [
    "def class_compare(a, b):\n",
    "    if type(a) == type(b):\n",
    "        print(True)\n",
    "    else:\n",
    "        print(False)"
   ]
  },
  {
   "cell_type": "code",
   "execution_count": 8,
   "metadata": {},
   "outputs": [
    {
     "name": "stdout",
     "output_type": "stream",
     "text": [
      "False\n"
     ]
    }
   ],
   "source": [
    "class_compare(a1, a4)"
   ]
  },
  {
   "cell_type": "code",
   "execution_count": 9,
   "metadata": {},
   "outputs": [
    {
     "name": "stdout",
     "output_type": "stream",
     "text": [
      "True\n"
     ]
    }
   ],
   "source": [
    "class_compare(a3, a4)"
   ]
  },
  {
   "cell_type": "code",
   "execution_count": 10,
   "metadata": {},
   "outputs": [
    {
     "name": "stdout",
     "output_type": "stream",
     "text": [
      "0\n",
      "0\n",
      " \n",
      " \n",
      " \n",
      " \n",
      "0\n"
     ]
    },
    {
     "name": "stderr",
     "output_type": "stream",
     "text": [
      "----------------------------------------------------------------------\n",
      "Ran 3 tests in 0.000s\n",
      "\n",
      "OK\n"
     ]
    },
    {
     "data": {
      "text/plain": [
       "<unittest.main.TestProgram at 0x2a171c74ac8>"
      ]
     },
     "execution_count": 10,
     "metadata": {},
     "output_type": "execute_result"
    }
   ],
   "source": [
    "import unittest\n",
    "from contextlib import contextmanager\n",
    "\n",
    "class AnimalTestCase(unittest.TestCase):\n",
    "  @contextmanager\n",
    "  def assertNotRaises(self, exc_type):\n",
    "    print(0)\n",
    "    try:\n",
    "      yield None\n",
    "    except exc_type:\n",
    "      raise self.failureException('{} raised'.format(exc_type.__name__))\n",
    "\n",
    "  def test_create_animal_instance(self):\n",
    "    with self.assertNotRaises(TypeError):\n",
    "      a = Animal(\"\", 0)\n",
    "  \n",
    "  def test_create_zebra(self):\n",
    "    with self.assertNotRaises(TypeError):\n",
    "      class Zebra(Animal):\n",
    "        pass\n",
    "      a = Zebra(\"\", 0)\n",
    "  \n",
    "  def test_create_animals(self):\n",
    "    with self.assertNotRaises(TypeError):\n",
    "      a1 = Lion(\"Alex\", 200)\n",
    "      a2 = Giraffe(\"Melman\", 400)\n",
    "      a3 = Lemur(\"King Julien XIII\", 40)\n",
    "      a4 = Lemur(\"Maurice\", 40)\n",
    "      a1.speak()\n",
    "      a2.speak()\n",
    "      a3.speak()\n",
    "      a4.speak()\n",
    "\n",
    "unittest.main(argv=[''], verbosity=0, exit=False)"
   ]
  }
 ],
 "metadata": {
  "kernelspec": {
   "display_name": "Python 3",
   "language": "python",
   "name": "python3"
  },
  "language_info": {
   "codemirror_mode": {
    "name": "ipython",
    "version": 3
   },
   "file_extension": ".py",
   "mimetype": "text/x-python",
   "name": "python",
   "nbconvert_exporter": "python",
   "pygments_lexer": "ipython3",
   "version": "3.6.8"
  },
  "orig_nbformat": 4,
  "vscode": {
   "interpreter": {
    "hash": "d207591e6ff77a7c5fb4cef0dd9fd3703274637a9d0902d2045beb3a65bf572a"
   }
  }
 },
 "nbformat": 4,
 "nbformat_minor": 2
}
